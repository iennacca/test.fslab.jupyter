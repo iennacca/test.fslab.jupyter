{
  "cells": [
    {
      "cell_type": "code",
      "execution_count": 1,
      "metadata": {
        "dotnet_interactive": {
          "language": "fsharp"
        }
      },
      "source": [
        "#r \"nuget: Deedle, 2.3.0\"\n",
        "#r \"nuget: FSharp.Data, 4.1.0\"\n",
        "#r \"nuget: XPlot.Plotly, 4.0.1\"\n",
        "#r \"nuget: XPlot.Plotly.Interactive, 4.0.1\""
      ],
      "outputs": []
    },
    {
      "cell_type": "code",
      "execution_count": 1,
      "metadata": {
        "dotnet_interactive": {
          "language": "fsharp"
        }
      },
      "source": [
        "open Deedle\n",
        "open FSharp.Data\n",
        "open XPlot.Plotly\n",
        "open XPlot.Plotly.Interactive"
      ],
      "outputs": []
    },
    {
      "cell_type": "code",
      "execution_count": 1,
      "metadata": {
        "dotnet_interactive": {
          "language": "fsharp"
        }
      },
      "source": [
        "// simple test chart\n",
        "let chart =\n",
        "    Chart.Line\n",
        "        [ 1, 1\n",
        "          2, 2 ]\n",
        "    |> Chart.WithWidth 400\n",
        "    |> Chart.WithHeight 300\n",
        "    |> Chart.WithLayout(Layout(title = \"my title\"))\n",
        "chart"
      ],
      "outputs": []
    },
    {
      "cell_type": "code",
      "execution_count": 1,
      "metadata": {
        "dotnet_interactive": {
          "language": "fsharp"
        }
      },
      "source": [
        "let wb = WorldBankData.GetDataContext()\n",
        "let ph = wb.Countries.``Philippines``.Indicators\n",
        "let cz = wb.Countries.``Czech Republic``.Indicators\n",
        "printfn \"Loaded World Bank data\""
      ],
      "outputs": []
    },
    {
      "cell_type": "code",
      "execution_count": 1,
      "metadata": {
        "dotnet_interactive": {
          "language": "fsharp"
        }
      },
      "source": [
        "let czschool = series cz.``School enrollment, tertiary (% gross)`` \n",
        "let phschool = series ph.``School enrollment, tertiary (% gross)`` "
      ],
      "outputs": []
    },
    {
      "cell_type": "code",
      "execution_count": 1,
      "metadata": {
        "dotnet_interactive": {
          "language": "fsharp"
        }
      },
      "source": [
        "[ (Series.observations czschool.[1975 .. 2010]); (Series.observations phschool.[1975 .. 2010]) ]\n",
        "|> Chart.Line\n",
        "|> Chart.WithLabels [\"CZ\"; \"PH\"]"
      ],
      "outputs": []
    }
  ],
  "metadata": {
    "kernelspec": {
      "display_name": ".NET (C#)",
      "language": "C#",
      "name": ".net-csharp"
    },
    "language_info": {
      "file_extension": ".cs",
      "mimetype": "text/x-csharp",
      "name": "C#",
      "pygments_lexer": "csharp",
      "version": "8.0"
    }
  },
  "nbformat": 4,
  "nbformat_minor": 4
}