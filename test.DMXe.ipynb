{
 "cells": [
  {
   "cell_type": "code",
   "execution_count": 1,
   "metadata": {
    "dotnet_interactive": {
     "language": "fsharp"
    }
   },
   "outputs": [
    {
     "data": {
      "text/html": [
       "\r\n",
       "<div>\r\n",
       "    <div id='dotnet-interactive-this-cell-22180.Microsoft.DotNet.Interactive.Http.HttpPort' style='display: none'>\r\n",
       "        The below script needs to be able to find the current output cell; this is an easy method to get it.\r\n",
       "    </div>\r\n",
       "    <script type='text/javascript'>\r\n",
       "async function probeAddresses(probingAddresses) {\r\n",
       "    function timeout(ms, promise) {\r\n",
       "        return new Promise(function (resolve, reject) {\r\n",
       "            setTimeout(function () {\r\n",
       "                reject(new Error('timeout'))\r\n",
       "            }, ms)\r\n",
       "            promise.then(resolve, reject)\r\n",
       "        })\r\n",
       "    }\r\n",
       "\r\n",
       "    if (Array.isArray(probingAddresses)) {\r\n",
       "        for (let i = 0; i < probingAddresses.length; i++) {\r\n",
       "\r\n",
       "            let rootUrl = probingAddresses[i];\r\n",
       "\r\n",
       "            if (!rootUrl.endsWith('/')) {\r\n",
       "                rootUrl = `${rootUrl}/`;\r\n",
       "            }\r\n",
       "\r\n",
       "            try {\r\n",
       "                let response = await timeout(1000, fetch(`${rootUrl}discovery`, {\r\n",
       "                    method: 'POST',\r\n",
       "                    cache: 'no-cache',\r\n",
       "                    mode: 'cors',\r\n",
       "                    timeout: 1000,\r\n",
       "                    headers: {\r\n",
       "                        'Content-Type': 'text/plain'\r\n",
       "                    },\r\n",
       "                    body: probingAddresses[i]\r\n",
       "                }));\r\n",
       "\r\n",
       "                if (response.status == 200) {\r\n",
       "                    return rootUrl;\r\n",
       "                }\r\n",
       "            }\r\n",
       "            catch (e) { }\r\n",
       "        }\r\n",
       "    }\r\n",
       "}\r\n",
       "\r\n",
       "function loadDotnetInteractiveApi() {\r\n",
       "    probeAddresses([\"http://192.168.1.206:1000/\", \"http://127.0.0.1:1000/\"])\r\n",
       "        .then((root) => {\r\n",
       "        // use probing to find host url and api resources\r\n",
       "        // load interactive helpers and language services\r\n",
       "        let dotnetInteractiveRequire = require.config({\r\n",
       "        context: '22180.Microsoft.DotNet.Interactive.Http.HttpPort',\r\n",
       "                paths:\r\n",
       "            {\r\n",
       "                'dotnet-interactive': `${root}resources`\r\n",
       "                }\r\n",
       "        }) || require;\r\n",
       "\r\n",
       "            window.dotnetInteractiveRequire = dotnetInteractiveRequire;\r\n",
       "\r\n",
       "            window.configureRequireFromExtension = function(extensionName, extensionCacheBuster) {\r\n",
       "                let paths = {};\r\n",
       "                paths[extensionName] = `${root}extensions/${extensionName}/resources/`;\r\n",
       "                \r\n",
       "                let internalRequire = require.config({\r\n",
       "                    context: extensionCacheBuster,\r\n",
       "                    paths: paths,\r\n",
       "                    urlArgs: `cacheBuster=${extensionCacheBuster}`\r\n",
       "                    }) || require;\r\n",
       "\r\n",
       "                return internalRequire\r\n",
       "            };\r\n",
       "        \r\n",
       "            dotnetInteractiveRequire([\r\n",
       "                    'dotnet-interactive/dotnet-interactive'\r\n",
       "                ],\r\n",
       "                function (dotnet) {\r\n",
       "                    dotnet.init(window);\r\n",
       "                },\r\n",
       "                function (error) {\r\n",
       "                    console.log(error);\r\n",
       "                }\r\n",
       "            );\r\n",
       "        })\r\n",
       "        .catch(error => {console.log(error);});\r\n",
       "    }\r\n",
       "\r\n",
       "// ensure `require` is available globally\r\n",
       "if ((typeof(require) !==  typeof(Function)) || (typeof(require.config) !== typeof(Function))) {\r\n",
       "    let require_script = document.createElement('script');\r\n",
       "    require_script.setAttribute('src', 'https://cdnjs.cloudflare.com/ajax/libs/require.js/2.3.6/require.min.js');\r\n",
       "    require_script.setAttribute('type', 'text/javascript');\r\n",
       "    \r\n",
       "    \r\n",
       "    require_script.onload = function() {\r\n",
       "        loadDotnetInteractiveApi();\r\n",
       "    };\r\n",
       "\r\n",
       "    document.getElementsByTagName('head')[0].appendChild(require_script);\r\n",
       "}\r\n",
       "else {\r\n",
       "    loadDotnetInteractiveApi();\r\n",
       "}\r\n",
       "\r\n",
       "    </script>\r\n",
       "</div>"
      ]
     },
     "metadata": {},
     "output_type": "display_data"
    },
    {
     "data": {
      "text/plain": [
       "Installed package aconcagua.client version 1.0.0-beta"
      ]
     },
     "metadata": {},
     "output_type": "display_data"
    }
   ],
   "source": [
    "#r \"nuget: aconcagua.client, 1.0.0-beta\"\n"
   ]
  },
  {
   "cell_type": "code",
   "execution_count": 2,
   "metadata": {
    "dotnet_interactive": {
     "language": "fsharp"
    }
   },
   "outputs": [],
   "source": [
    "open aconcagua.client\n",
    "open aconcagua.service\n"
   ]
  },
  {
   "cell_type": "code",
   "execution_count": 3,
   "metadata": {
    "dotnet_interactive": {
     "language": "fsharp"
    }
   },
   "outputs": [
    {
     "data": {
      "text/plain": [
       "0.5.30"
      ]
     },
     "execution_count": 3,
     "metadata": {},
     "output_type": "execute_result"
    }
   ],
   "source": [
    "let client = ServiceClient()\n",
    "\n",
    "client.GetVersion()"
   ]
  },
  {
   "cell_type": "code",
   "execution_count": 4,
   "metadata": {
    "dotnet_interactive": {
     "language": "fsharp"
    }
   },
   "outputs": [
    {
     "data": {
      "text/html": [
       "<table><thead><tr><th><i>index</i></th><th>value</th></tr></thead><tbody><tr><td>0</td><td><div class=\"dni-plaintext\">dmxe,consolidation_test.dmxe</div></td></tr><tr><td>1</td><td><div class=\"dni-plaintext\">dmxe,Structural.dmxe</div></td></tr><tr><td>2</td><td><div class=\"dni-plaintext\">dmxe,test.consolidation.dmxe</div></td></tr><tr><td>3</td><td><div class=\"dni-plaintext\">ecos,ECDATA_MFS</div></td></tr></tbody></table>"
      ]
     },
     "execution_count": 4,
     "metadata": {},
     "output_type": "execute_result"
    }
   ],
   "source": [
    "client.GetDatabases() "
   ]
  },
  {
   "cell_type": "code",
   "execution_count": 5,
   "metadata": {
    "dotnet_interactive": {
     "language": "fsharp"
    }
   },
   "outputs": [],
   "source": [
    "let seriescodes = client.GetSeriesKeys [\"dmxe:///structural.dmxe\"]\n"
   ]
  },
  {
   "cell_type": "code",
   "execution_count": 6,
   "metadata": {
    "dotnet_interactive": {
     "language": "fsharp"
    }
   },
   "outputs": [
    {
     "data": {
      "text/html": [
       "<table><thead><tr><th><i>index</i></th><th>Source</th><th>Series</th></tr></thead><tbody><tr><td>0</td><td><div class=\"dni-plaintext\">dmxe:///structural.dmxe</div></td><td><div class=\"dni-plaintext\">512DB_O_RANK</div></td></tr><tr><td>1</td><td><div class=\"dni-plaintext\">dmxe:///structural.dmxe</div></td><td><div class=\"dni-plaintext\">512DB_O_DTF</div></td></tr><tr><td>2</td><td><div class=\"dni-plaintext\">dmxe:///structural.dmxe</div></td><td><div class=\"dni-plaintext\">512DB_SAB_RANK</div></td></tr><tr><td>3</td><td><div class=\"dni-plaintext\">dmxe:///structural.dmxe</div></td><td><div class=\"dni-plaintext\">512DB_SAB_DTF</div></td></tr><tr><td>4</td><td><div class=\"dni-plaintext\">dmxe:///structural.dmxe</div></td><td><div class=\"dni-plaintext\">512DB_SAB_PROC_M</div></td></tr><tr><td>5</td><td><div class=\"dni-plaintext\">dmxe:///structural.dmxe</div></td><td><div class=\"dni-plaintext\">512DB_SAB_TIME_M</div></td></tr><tr><td>6</td><td><div class=\"dni-plaintext\">dmxe:///structural.dmxe</div></td><td><div class=\"dni-plaintext\">512DB_SAB_COST_M</div></td></tr><tr><td>7</td><td><div class=\"dni-plaintext\">dmxe:///structural.dmxe</div></td><td><div class=\"dni-plaintext\">512DB_SAB_PROC_W</div></td></tr><tr><td>8</td><td><div class=\"dni-plaintext\">dmxe:///structural.dmxe</div></td><td><div class=\"dni-plaintext\">512DB_SAB_TIME_W</div></td></tr><tr><td>9</td><td><div class=\"dni-plaintext\">dmxe:///structural.dmxe</div></td><td><div class=\"dni-plaintext\">512DB_SAB_COST_W</div></td></tr><tr><td>10</td><td><div class=\"dni-plaintext\">dmxe:///structural.dmxe</div></td><td><div class=\"dni-plaintext\">512DB_SAB_PAIDIN</div></td></tr><tr><td>11</td><td><div class=\"dni-plaintext\">dmxe:///structural.dmxe</div></td><td><div class=\"dni-plaintext\">512DB_CONS_RANK</div></td></tr><tr><td>12</td><td><div class=\"dni-plaintext\">dmxe:///structural.dmxe</div></td><td><div class=\"dni-plaintext\">512DB_CONS_DTF</div></td></tr><tr><td>13</td><td><div class=\"dni-plaintext\">dmxe:///structural.dmxe</div></td><td><div class=\"dni-plaintext\">512DB_CONS_PROC</div></td></tr><tr><td>14</td><td><div class=\"dni-plaintext\">dmxe:///structural.dmxe</div></td><td><div class=\"dni-plaintext\">512DB_CONS_TIME</div></td></tr><tr><td>15</td><td><div class=\"dni-plaintext\">dmxe:///structural.dmxe</div></td><td><div class=\"dni-plaintext\">512DB_CONS_COST</div></td></tr><tr><td>16</td><td><div class=\"dni-plaintext\">dmxe:///structural.dmxe</div></td><td><div class=\"dni-plaintext\">512DB_CONS_QCI1</div></td></tr><tr><td>17</td><td><div class=\"dni-plaintext\">dmxe:///structural.dmxe</div></td><td><div class=\"dni-plaintext\">512DB_CONS_REGI</div></td></tr><tr><td>18</td><td><div class=\"dni-plaintext\">dmxe:///structural.dmxe</div></td><td><div class=\"dni-plaintext\">512DB_CONS_QCI2</div></td></tr><tr><td>19</td><td><div class=\"dni-plaintext\">dmxe:///structural.dmxe</div></td><td><div class=\"dni-plaintext\">512DB_CONS_QCI3</div></td></tr><tr><td colspan=\"3\">(51091 more)</td></tr></tbody></table>"
      ]
     },
     "execution_count": 6,
     "metadata": {},
     "output_type": "execute_result"
    }
   ],
   "source": [
    "seriescodes.SeriesLists"
   ]
  },
  {
   "cell_type": "code",
   "execution_count": 7,
   "metadata": {
    "dotnet_interactive": {
     "language": "fsharp"
    }
   },
   "outputs": [],
   "source": [
    "let response = client.GetMetadata (\"dmxe:///structural.dmxe\", [\"512DB_O_RANK\"; \"512DB_SAB_RANK\"], [\"unit\"; \"scale\"; \"descriptor\"])\n"
   ]
  },
  {
   "cell_type": "code",
   "execution_count": 8,
   "metadata": {
    "dotnet_interactive": {
     "language": "fsharp"
    }
   },
   "outputs": [
    {
     "data": {
      "text/html": [
       "<table><thead><tr><th><i>index</i></th><th>SourceSeries</th><th>Metadata</th></tr></thead><tbody><tr><td>0</td><td><div class=\"dni-plaintext\">SourceSeriesInfo { Source = dmxe:///structural.dmxe, Series = 512DB_O_RANK }</div></td><td><div class=\"dni-plaintext\">[ , Unit, Rank ]</div></td></tr><tr><td>1</td><td><div class=\"dni-plaintext\">SourceSeriesInfo { Source = dmxe:///structural.dmxe, Series = 512DB_SAB_RANK }</div></td><td><div class=\"dni-plaintext\">[ , Unit, Starting a business-Rank ]</div></td></tr></tbody></table>"
      ]
     },
     "execution_count": 8,
     "metadata": {},
     "output_type": "execute_result"
    }
   ],
   "source": [
    "response.SeriesMetadata \n"
   ]
  },
  {
   "cell_type": "code",
   "execution_count": 9,
   "metadata": {
    "dotnet_interactive": {
     "language": "fsharp"
    }
   },
   "outputs": [
    {
     "data": {
      "text/html": [
       "<table><thead><tr><th><i>index</i></th><th>value</th></tr></thead><tbody><tr><td>0</td><td><div class=\"dni-plaintext\">[ , Unit, Rank ]</div></td></tr><tr><td>1</td><td><div class=\"dni-plaintext\">[ , Unit, Starting a business-Rank ]</div></td></tr></tbody></table>"
      ]
     },
     "execution_count": 9,
     "metadata": {},
     "output_type": "execute_result"
    }
   ],
   "source": [
    "response.SeriesMetadata |> (Seq.map (fun x -> x.Metadata))\n",
    "\n"
   ]
  },
  {
   "cell_type": "code",
   "execution_count": null,
   "metadata": {},
   "outputs": [],
   "source": []
  }
 ],
 "metadata": {
  "kernelspec": {
   "display_name": ".NET (F#)",
   "language": "F#",
   "name": ".net-fsharp"
  },
  "language_info": {
   "file_extension": ".fs",
   "mimetype": "text/x-fsharp",
   "name": "C#",
   "pygments_lexer": "fsharp",
   "version": "4.5"
  }
 },
 "nbformat": 4,
 "nbformat_minor": 4
}
