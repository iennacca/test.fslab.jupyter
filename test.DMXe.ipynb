{
  "cells": [
    {
      "cell_type": "code",
      "execution_count": 1,
      "metadata": {
        "dotnet_interactive": {
          "language": "fsharp"
        }
      },
      "source": [
        "#r \"nuget: aconcagua.client, 1.0.0-beta\"\n",
        ""
      ],
      "outputs": []
    },
    {
      "cell_type": "code",
      "execution_count": 1,
      "metadata": {
        "dotnet_interactive": {
          "language": "fsharp"
        }
      },
      "source": [
        "open aconcagua.client\n",
        "open aconcagua.service\n",
        ""
      ],
      "outputs": []
    },
    {
      "cell_type": "code",
      "execution_count": 1,
      "metadata": {
        "dotnet_interactive": {
          "language": "fsharp"
        }
      },
      "source": [
        "let client = ServiceClient()\n",
        "\n",
        "client.GetVersion()"
      ],
      "outputs": [
        {
          "output_type": "execute_result",
          "data": {
            "text/plain": "0.5.30"
          },
          "execution_count": 1,
          "metadata": {}
        }
      ]
    },
    {
      "cell_type": "code",
      "execution_count": 1,
      "metadata": {
        "dotnet_interactive": {
          "language": "fsharp"
        }
      },
      "source": [
        "client.GetDatabases() "
      ],
      "outputs": [
        {
          "output_type": "execute_result",
          "data": {
            "text/html": "<table><thead><tr><th><i>index</i></th><th>value</th></tr></thead><tbody><tr><td>0</td><td><div class=\"dni-plaintext\">dmxe,consolidation_test.dmxe</div></td></tr><tr><td>1</td><td><div class=\"dni-plaintext\">dmxe,Structural.dmxe</div></td></tr><tr><td>2</td><td><div class=\"dni-plaintext\">dmxe,test.consolidation.dmxe</div></td></tr><tr><td>3</td><td><div class=\"dni-plaintext\">ecos,ECDATA_MFS</div></td></tr></tbody></table>"
          },
          "execution_count": 1,
          "metadata": {}
        }
      ]
    },
    {
      "cell_type": "code",
      "execution_count": 1,
      "metadata": {
        "dotnet_interactive": {
          "language": "fsharp"
        }
      },
      "source": [
        "let seriescodes = client.GetSeriesKeys [\"dmxe:///structural.dmxe\"]\n",
        ""
      ],
      "outputs": []
    },
    {
      "cell_type": "code",
      "execution_count": 1,
      "metadata": {
        "dotnet_interactive": {
          "language": "fsharp"
        }
      },
      "source": [
        "seriescodes.SeriesLists"
      ],
      "outputs": [
        {
          "output_type": "execute_result",
          "data": {
            "text/html": "<table><thead><tr><th><i>index</i></th><th>Source</th><th>Series</th></tr></thead><tbody><tr><td>0</td><td><div class=\"dni-plaintext\">dmxe:///structural.dmxe</div></td><td><div class=\"dni-plaintext\">512DB_O_RANK</div></td></tr><tr><td>1</td><td><div class=\"dni-plaintext\">dmxe:///structural.dmxe</div></td><td><div class=\"dni-plaintext\">512DB_O_DTF</div></td></tr><tr><td>2</td><td><div class=\"dni-plaintext\">dmxe:///structural.dmxe</div></td><td><div class=\"dni-plaintext\">512DB_SAB_RANK</div></td></tr><tr><td>3</td><td><div class=\"dni-plaintext\">dmxe:///structural.dmxe</div></td><td><div class=\"dni-plaintext\">512DB_SAB_DTF</div></td></tr><tr><td>4</td><td><div class=\"dni-plaintext\">dmxe:///structural.dmxe</div></td><td><div class=\"dni-plaintext\">512DB_SAB_PROC_M</div></td></tr><tr><td>5</td><td><div class=\"dni-plaintext\">dmxe:///structural.dmxe</div></td><td><div class=\"dni-plaintext\">512DB_SAB_TIME_M</div></td></tr><tr><td>6</td><td><div class=\"dni-plaintext\">dmxe:///structural.dmxe</div></td><td><div class=\"dni-plaintext\">512DB_SAB_COST_M</div></td></tr><tr><td>7</td><td><div class=\"dni-plaintext\">dmxe:///structural.dmxe</div></td><td><div class=\"dni-plaintext\">512DB_SAB_PROC_W</div></td></tr><tr><td>8</td><td><div class=\"dni-plaintext\">dmxe:///structural.dmxe</div></td><td><div class=\"dni-plaintext\">512DB_SAB_TIME_W</div></td></tr><tr><td>9</td><td><div class=\"dni-plaintext\">dmxe:///structural.dmxe</div></td><td><div class=\"dni-plaintext\">512DB_SAB_COST_W</div></td></tr><tr><td>10</td><td><div class=\"dni-plaintext\">dmxe:///structural.dmxe</div></td><td><div class=\"dni-plaintext\">512DB_SAB_PAIDIN</div></td></tr><tr><td>11</td><td><div class=\"dni-plaintext\">dmxe:///structural.dmxe</div></td><td><div class=\"dni-plaintext\">512DB_CONS_RANK</div></td></tr><tr><td>12</td><td><div class=\"dni-plaintext\">dmxe:///structural.dmxe</div></td><td><div class=\"dni-plaintext\">512DB_CONS_DTF</div></td></tr><tr><td>13</td><td><div class=\"dni-plaintext\">dmxe:///structural.dmxe</div></td><td><div class=\"dni-plaintext\">512DB_CONS_PROC</div></td></tr><tr><td>14</td><td><div class=\"dni-plaintext\">dmxe:///structural.dmxe</div></td><td><div class=\"dni-plaintext\">512DB_CONS_TIME</div></td></tr><tr><td>15</td><td><div class=\"dni-plaintext\">dmxe:///structural.dmxe</div></td><td><div class=\"dni-plaintext\">512DB_CONS_COST</div></td></tr><tr><td>16</td><td><div class=\"dni-plaintext\">dmxe:///structural.dmxe</div></td><td><div class=\"dni-plaintext\">512DB_CONS_QCI1</div></td></tr><tr><td>17</td><td><div class=\"dni-plaintext\">dmxe:///structural.dmxe</div></td><td><div class=\"dni-plaintext\">512DB_CONS_REGI</div></td></tr><tr><td>18</td><td><div class=\"dni-plaintext\">dmxe:///structural.dmxe</div></td><td><div class=\"dni-plaintext\">512DB_CONS_QCI2</div></td></tr><tr><td>19</td><td><div class=\"dni-plaintext\">dmxe:///structural.dmxe</div></td><td><div class=\"dni-plaintext\">512DB_CONS_QCI3</div></td></tr><tr><td colspan=\"3\">(51091 more)</td></tr></tbody></table>"
          },
          "execution_count": 1,
          "metadata": {}
        }
      ]
    },
    {
      "cell_type": "code",
      "execution_count": 1,
      "metadata": {
        "dotnet_interactive": {
          "language": "fsharp"
        }
      },
      "source": [
        "let response = client.GetMetadata (\"dmxe:///structural.dmxe\", [\"512DB_O_RANK\"; \"512DB_SAB_RANK\"], [\"unit\"; \"scale\"; \"descriptor\"])\n",
        ""
      ],
      "outputs": []
    },
    {
      "cell_type": "code",
      "execution_count": 1,
      "metadata": {
        "dotnet_interactive": {
          "language": "fsharp"
        }
      },
      "source": [
        "response.SeriesMetadata \n",
        ""
      ],
      "outputs": [
        {
          "output_type": "execute_result",
          "data": {
            "text/html": "<table><thead><tr><th><i>index</i></th><th>SourceSeries</th><th>Metadata</th></tr></thead><tbody><tr><td>0</td><td><div class=\"dni-plaintext\">SourceSeriesInfo { Source = dmxe:///structural.dmxe, Series = 512DB_O_RANK }</div></td><td><div class=\"dni-plaintext\">[ , Unit, Rank ]</div></td></tr><tr><td>1</td><td><div class=\"dni-plaintext\">SourceSeriesInfo { Source = dmxe:///structural.dmxe, Series = 512DB_SAB_RANK }</div></td><td><div class=\"dni-plaintext\">[ , Unit, Starting a business-Rank ]</div></td></tr></tbody></table>"
          },
          "execution_count": 1,
          "metadata": {}
        }
      ]
    },
    {
      "cell_type": "code",
      "execution_count": 1,
      "metadata": {
        "dotnet_interactive": {
          "language": "fsharp"
        }
      },
      "source": [
        "response.SeriesMetadata |> (Seq.map (fun x -> x.Metadata))\n",
        "\n",
        ""
      ],
      "outputs": [
        {
          "output_type": "execute_result",
          "data": {
            "text/html": "<table><thead><tr><th><i>index</i></th><th>value</th></tr></thead><tbody><tr><td>0</td><td><div class=\"dni-plaintext\">[ , Unit, Rank ]</div></td></tr><tr><td>1</td><td><div class=\"dni-plaintext\">[ , Unit, Starting a business-Rank ]</div></td></tr></tbody></table>"
          },
          "execution_count": 1,
          "metadata": {}
        }
      ]
    }
  ],
  "metadata": {
    "kernelspec": {
      "display_name": ".NET (C#)",
      "language": "C#",
      "name": ".net-csharp"
    },
    "language_info": {
      "file_extension": ".cs",
      "mimetype": "text/x-csharp",
      "name": "C#",
      "pygments_lexer": "csharp",
      "version": "8.0"
    }
  },
  "nbformat": 4,
  "nbformat_minor": 4
}