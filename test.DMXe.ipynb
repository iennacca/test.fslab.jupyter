{
 "cells": [
  {
   "cell_type": "code",
   "execution_count": null,
   "metadata": {
    "dotnet_interactive": {
     "language": "fsharp"
    }
   },
   "outputs": [
    {
     "data": {
      "text/plain": "Installed package aconcagua.client version 1.0.0-beta"
     },
     "output_type": "unknown"
    }
   ],
   "source": [
    "#r \"nuget: aconcagua.client, 1.0.0-beta\"\n"
   ]
  },
  {
   "cell_type": "code",
   "execution_count": null,
   "metadata": {
    "dotnet_interactive": {
     "language": "fsharp"
    }
   },
   "outputs": [],
   "source": [
    "open aconcagua.service\r\n"
   ]
  },
  {
   "cell_type": "code",
   "execution_count": null,
   "metadata": {
    "dotnet_interactive": {
     "language": "fsharp"
    }
   },
   "outputs": [
    {
     "data": {
      "text/plain": "0.5.30"
     },
     "output_type": "unknown"
    }
   ],
   "source": [
    "let client = ServiceClient()\n",
    "\n",
    "client.GetVersion()"
   ]
  },
  {
   "cell_type": "code",
   "execution_count": null,
   "metadata": {
    "dotnet_interactive": {
     "language": "fsharp"
    }
   },
   "outputs": [
    {
     "data": {
      "text/html": "<table><thead><tr><th><i>index</i></th><th>value</th></tr></thead><tbody><tr><td>0</td><td><div class=\"dni-plaintext\">dmxe,consolidation_test.dmxe</div></td></tr><tr><td>1</td><td><div class=\"dni-plaintext\">dmxe,Structural.dmxe</div></td></tr><tr><td>2</td><td><div class=\"dni-plaintext\">dmxe,test.consolidation.dmxe</div></td></tr><tr><td>3</td><td><div class=\"dni-plaintext\">ecos,ECDATA_MFS</div></td></tr></tbody></table>"
     },
     "output_type": "unknown"
    }
   ],
   "source": [
    "client.GetDatabases() "
   ]
  },
  {
   "cell_type": "code",
   "execution_count": null,
   "metadata": {
    "dotnet_interactive": {
     "language": "fsharp"
    }
   },
   "outputs": [],
   "source": [
    "let seriescodes = client.GetSeriesKeys [\"dmxe:///structural.dmxe\"]\n"
   ]
  },
  {
   "cell_type": "code",
   "execution_count": null,
   "metadata": {
    "dotnet_interactive": {
     "language": "fsharp"
    }
   },
   "outputs": [
    {
     "data": {
      "text/html": "<table><thead><tr><th><i>index</i></th><th>Source</th><th>Series</th></tr></thead><tbody><tr><td>0</td><td><div class=\"dni-plaintext\">dmxe:///structural.dmxe</div></td><td><div class=\"dni-plaintext\">512DB_O_RANK</div></td></tr><tr><td>1</td><td><div class=\"dni-plaintext\">dmxe:///structural.dmxe</div></td><td><div class=\"dni-plaintext\">512DB_O_DTF</div></td></tr><tr><td>2</td><td><div class=\"dni-plaintext\">dmxe:///structural.dmxe</div></td><td><div class=\"dni-plaintext\">512DB_SAB_RANK</div></td></tr><tr><td>3</td><td><div class=\"dni-plaintext\">dmxe:///structural.dmxe</div></td><td><div class=\"dni-plaintext\">512DB_SAB_DTF</div></td></tr><tr><td>4</td><td><div class=\"dni-plaintext\">dmxe:///structural.dmxe</div></td><td><div class=\"dni-plaintext\">512DB_SAB_PROC_M</div></td></tr><tr><td>5</td><td><div class=\"dni-plaintext\">dmxe:///structural.dmxe</div></td><td><div class=\"dni-plaintext\">512DB_SAB_TIME_M</div></td></tr><tr><td>6</td><td><div class=\"dni-plaintext\">dmxe:///structural.dmxe</div></td><td><div class=\"dni-plaintext\">512DB_SAB_COST_M</div></td></tr><tr><td>7</td><td><div class=\"dni-plaintext\">dmxe:///structural.dmxe</div></td><td><div class=\"dni-plaintext\">512DB_SAB_PROC_W</div></td></tr><tr><td>8</td><td><div class=\"dni-plaintext\">dmxe:///structural.dmxe</div></td><td><div class=\"dni-plaintext\">512DB_SAB_TIME_W</div></td></tr><tr><td>9</td><td><div class=\"dni-plaintext\">dmxe:///structural.dmxe</div></td><td><div class=\"dni-plaintext\">512DB_SAB_COST_W</div></td></tr><tr><td>10</td><td><div class=\"dni-plaintext\">dmxe:///structural.dmxe</div></td><td><div class=\"dni-plaintext\">512DB_SAB_PAIDIN</div></td></tr><tr><td>11</td><td><div class=\"dni-plaintext\">dmxe:///structural.dmxe</div></td><td><div class=\"dni-plaintext\">512DB_CONS_RANK</div></td></tr><tr><td>12</td><td><div class=\"dni-plaintext\">dmxe:///structural.dmxe</div></td><td><div class=\"dni-plaintext\">512DB_CONS_DTF</div></td></tr><tr><td>13</td><td><div class=\"dni-plaintext\">dmxe:///structural.dmxe</div></td><td><div class=\"dni-plaintext\">512DB_CONS_PROC</div></td></tr><tr><td>14</td><td><div class=\"dni-plaintext\">dmxe:///structural.dmxe</div></td><td><div class=\"dni-plaintext\">512DB_CONS_TIME</div></td></tr><tr><td>15</td><td><div class=\"dni-plaintext\">dmxe:///structural.dmxe</div></td><td><div class=\"dni-plaintext\">512DB_CONS_COST</div></td></tr><tr><td>16</td><td><div class=\"dni-plaintext\">dmxe:///structural.dmxe</div></td><td><div class=\"dni-plaintext\">512DB_CONS_QCI1</div></td></tr><tr><td>17</td><td><div class=\"dni-plaintext\">dmxe:///structural.dmxe</div></td><td><div class=\"dni-plaintext\">512DB_CONS_REGI</div></td></tr><tr><td>18</td><td><div class=\"dni-plaintext\">dmxe:///structural.dmxe</div></td><td><div class=\"dni-plaintext\">512DB_CONS_QCI2</div></td></tr><tr><td>19</td><td><div class=\"dni-plaintext\">dmxe:///structural.dmxe</div></td><td><div class=\"dni-plaintext\">512DB_CONS_QCI3</div></td></tr><tr><td colspan=\"3\">(51091 more)</td></tr></tbody></table>"
     },
     "output_type": "unknown"
    }
   ],
   "source": [
    "seriescodes.SeriesLists"
   ]
  },
  {
   "cell_type": "code",
   "execution_count": null,
   "metadata": {
    "dotnet_interactive": {
     "language": "fsharp"
    }
   },
   "outputs": [],
   "source": [
    "let response = client.GetMetadata(\"dmxe:///structural.dmxe\", [\"512DB_O_RANK\"; \"512DB_SAB_RANK\"], [\"unit\"; \"scale\"; \"descriptor\"])\r\n"
   ]
  },
  {
   "cell_type": "code",
   "execution_count": null,
   "metadata": {
    "dotnet_interactive": {
     "language": "fsharp"
    }
   },
   "outputs": [
    {
     "data": {
      "text/html": "<table><thead><tr><th><i>index</i></th><th>SourceSeries</th><th>Metadata</th></tr></thead><tbody><tr><td>0</td><td><div class=\"dni-plaintext\">SourceSeriesPair { Source = dmxe:///structural.dmxe, Series = 512DB_O_RANK }</div></td><td><div class=\"dni-plaintext\">[ , Unit, Rank ]</div></td></tr><tr><td>1</td><td><div class=\"dni-plaintext\">SourceSeriesPair { Source = dmxe:///structural.dmxe, Series = 512DB_SAB_RANK }</div></td><td><div class=\"dni-plaintext\">[ , Unit, Starting a business-Rank ]</div></td></tr></tbody></table>"
     },
     "output_type": "unknown"
    }
   ],
   "source": [
    "response.SeriesMetadata \n"
   ]
  },
  {
   "cell_type": "code",
   "execution_count": null,
   "metadata": {
    "dotnet_interactive": {
     "language": "fsharp"
    }
   },
   "outputs": [],
   "source": [
    "let response = client.GetObservations(\"dmxe:///structural.dmxe\", [\"110WUI\"; \"906WUI\"], \"Q\")"
   ]
  },
  {
   "cell_type": "code",
   "execution_count": null,
   "metadata": {
    "dotnet_interactive": {
     "language": "fsharp"
    }
   },
   "outputs": [
    {
     "data": {
      "text/html": "<table><thead><tr><th><i>index</i></th><th>SourceSeries</th><th>Observations</th></tr></thead><tbody><tr><td>0</td><td><div class=\"dni-plaintext\">SourceSeriesPair { Source = dmxe:///structural.dmxe, Series = 110WUI }</div></td><td><div class=\"dni-plaintext\">[ ObservationPair { Key = 1990Q1, Value = 13599.84 }, ObservationPair { Key = 1990Q2, Value = 8297.866 }, ObservationPair { Key = 1990Q3, Value = 17522.03 }, ObservationPair { Key = 1990Q4, Value = 12405.35 }, ObservationPair { Key = 1991Q1, Value = 6740.438 }, ObservationPair { Key = 1991Q2, Value = 8937.921 }, ObservationPair { Key = 1991Q3, Value = 5215.462 }, ObservationPair { Key = 1991Q4, Value = 6426.274 }, ObservationPair { Key = 1992Q1, Value = 13047.69 }, ObservationPair { Key = 1992Q2, Value = 6136.862 }, ObservationPair { Key = 1992Q3, Value = 4840.969 }, ObservationPair { Key = 1992Q4, Value = 13392.23 }, ObservationPair { Key = 1993Q1, Value = 14404.25 }, ObservationPair { Key = 1993Q2, Value = 9741.041 }, ObservationPair { Key = 1993Q3, Value = 15384.25 }, ObservationPair { Key = 1993Q4, Value = 12017.22 }, ObservationPair { Key = 1994Q1, Value = 9527.217 }, ObservationPair { Key = 1994Q2, Value = 8475.688 }, ObservationPair { Key = 1994Q3, Value = 12561.48 }, ObservationPair { Key = 1994Q4, Value = 8014.615 } ... (104 more) ]</div></td></tr><tr><td>1</td><td><div class=\"dni-plaintext\">SourceSeriesPair { Source = dmxe:///structural.dmxe, Series = 906WUI }</div></td><td><div class=\"dni-plaintext\">[ ObservationPair { Key = 1990Q1, Value = 8040.513 }, ObservationPair { Key = 1990Q2, Value = 11064.61 }, ObservationPair { Key = 1990Q3, Value = 10177.31 }, ObservationPair { Key = 1990Q4, Value = 9755.987 }, ObservationPair { Key = 1991Q1, Value = 14966.6 }, ObservationPair { Key = 1991Q2, Value = 17554.59 }, ObservationPair { Key = 1991Q3, Value = 10338.57 }, ObservationPair { Key = 1991Q4, Value = 11707.3 }, ObservationPair { Key = 1992Q1, Value = 10893.75 }, ObservationPair { Key = 1992Q2, Value = 12405.22 }, ObservationPair { Key = 1992Q3, Value = 15301.94 }, ObservationPair { Key = 1992Q4, Value = 16744.07 }, ObservationPair { Key = 1993Q1, Value = 10888.35 }, ObservationPair { Key = 1993Q2, Value = 13478.88 }, ObservationPair { Key = 1993Q3, Value = 17471.74 }, ObservationPair { Key = 1993Q4, Value = 10779.07 }, ObservationPair { Key = 1994Q1, Value = 10337.89 }, ObservationPair { Key = 1994Q2, Value = 13724.75 }, ObservationPair { Key = 1994Q3, Value = 14257.9 }, ObservationPair { Key = 1994Q4, Value = 9724.229 } ... (104 more) ]</div></td></tr></tbody></table>"
     },
     "output_type": "unknown"
    }
   ],
   "source": [
    "let series = response.SeriesObservations\r\n",
    "series"
   ]
  },
  {
   "cell_type": "code",
   "execution_count": null,
   "metadata": {
    "dotnet_interactive": {
     "language": "fsharp"
    }
   },
   "outputs": [
    {
     "data": {
      "text/html": "<table><thead><tr><th><i>index</i></th><th>Key</th><th>Value</th></tr></thead><tbody><tr><td>0</td><td><div class=\"dni-plaintext\">1990Q1</div></td><td><div class=\"dni-plaintext\">13599.84</div></td></tr><tr><td>1</td><td><div class=\"dni-plaintext\">1990Q2</div></td><td><div class=\"dni-plaintext\">8297.866</div></td></tr><tr><td>2</td><td><div class=\"dni-plaintext\">1990Q3</div></td><td><div class=\"dni-plaintext\">17522.03</div></td></tr><tr><td>3</td><td><div class=\"dni-plaintext\">1990Q4</div></td><td><div class=\"dni-plaintext\">12405.35</div></td></tr><tr><td>4</td><td><div class=\"dni-plaintext\">1991Q1</div></td><td><div class=\"dni-plaintext\">6740.438</div></td></tr><tr><td>5</td><td><div class=\"dni-plaintext\">1991Q2</div></td><td><div class=\"dni-plaintext\">8937.921</div></td></tr><tr><td>6</td><td><div class=\"dni-plaintext\">1991Q3</div></td><td><div class=\"dni-plaintext\">5215.462</div></td></tr><tr><td>7</td><td><div class=\"dni-plaintext\">1991Q4</div></td><td><div class=\"dni-plaintext\">6426.274</div></td></tr><tr><td>8</td><td><div class=\"dni-plaintext\">1992Q1</div></td><td><div class=\"dni-plaintext\">13047.69</div></td></tr><tr><td>9</td><td><div class=\"dni-plaintext\">1992Q2</div></td><td><div class=\"dni-plaintext\">6136.862</div></td></tr><tr><td>10</td><td><div class=\"dni-plaintext\">1992Q3</div></td><td><div class=\"dni-plaintext\">4840.969</div></td></tr><tr><td>11</td><td><div class=\"dni-plaintext\">1992Q4</div></td><td><div class=\"dni-plaintext\">13392.23</div></td></tr><tr><td>12</td><td><div class=\"dni-plaintext\">1993Q1</div></td><td><div class=\"dni-plaintext\">14404.25</div></td></tr><tr><td>13</td><td><div class=\"dni-plaintext\">1993Q2</div></td><td><div class=\"dni-plaintext\">9741.041</div></td></tr><tr><td>14</td><td><div class=\"dni-plaintext\">1993Q3</div></td><td><div class=\"dni-plaintext\">15384.25</div></td></tr><tr><td>15</td><td><div class=\"dni-plaintext\">1993Q4</div></td><td><div class=\"dni-plaintext\">12017.22</div></td></tr><tr><td>16</td><td><div class=\"dni-plaintext\">1994Q1</div></td><td><div class=\"dni-plaintext\">9527.217</div></td></tr><tr><td>17</td><td><div class=\"dni-plaintext\">1994Q2</div></td><td><div class=\"dni-plaintext\">8475.688</div></td></tr><tr><td>18</td><td><div class=\"dni-plaintext\">1994Q3</div></td><td><div class=\"dni-plaintext\">12561.48</div></td></tr><tr><td>19</td><td><div class=\"dni-plaintext\">1994Q4</div></td><td><div class=\"dni-plaintext\">8014.615</div></td></tr><tr><td colspan=\"3\">(104 more)</td></tr></tbody></table>"
     },
     "output_type": "unknown"
    }
   ],
   "source": [
    "let s = series |> Seq.head\r\n",
    "let keys = s.Observations |> Seq.map (fun x -> x.Key)\r\n",
    "let values = s.Observations |> Seq.map (fun x -> x.Value)\r\n",
    "s.Observations\r\n"
   ]
  },
  {
   "cell_type": "code",
   "execution_count": null,
   "metadata": {
    "dotnet_interactive": {
     "language": "fsharp"
    }
   },
   "outputs": [
    {
     "data": {
      "text/plain": "Installed package Plotly.NET version 2.0.0-beta8"
     },
     "output_type": "unknown"
    },
    {
     "data": {
      "text/plain": "Installed package Plotly.NET.Interactive version 2.0.0-beta8"
     },
     "output_type": "unknown"
    },
    {
     "data": {
      "text/markdown": "Loading extensions from `Plotly.NET.Interactive.dll`"
     },
     "output_type": "unknown"
    },
    {
     "data": {
      "text/markdown": "Added Kernel Extension including formatters for GenericChart"
     },
     "output_type": "unknown"
    }
   ],
   "source": [
    "#r \"nuget: Plotly.NET, 2.0.0-beta8\"\r\n",
    "#r \"nuget: Plotly.NET.Interactive, 2.0.0-beta8\"\r\n"
   ]
  },
  {
   "cell_type": "code",
   "execution_count": null,
   "metadata": {
    "dotnet_interactive": {
     "language": "fsharp"
    }
   },
   "outputs": [
    {
     "data": {
      "text/html": "<div id=\"48fbbb23-fc19-4f48-8f9a-037bc4b09325\" style=\"width: 600px; height: 600px;\"><!-- Plotly chart will be drawn inside this DIV --></div>\r\n<script type=\"text/javascript\">\r\n\n            var renderPlotly_48fbbb23fc194f488f9a037bc4b09325 = function() {\n            var fsharpPlotlyRequire = requirejs.config({context:'fsharp-plotly',paths:{plotly:'https://cdn.plot.ly/plotly-latest.min'}}) || require;\n            fsharpPlotlyRequire(['plotly'], function(Plotly) {\r\n\n            var data = [{\"type\":\"scatter\",\"x\":[\"1990Q1\",\"1990Q2\",\"1990Q3\",\"1990Q4\",\"1991Q1\",\"1991Q2\",\"1991Q3\",\"1991Q4\",\"1992Q1\",\"1992Q2\",\"1992Q3\",\"1992Q4\",\"1993Q1\",\"1993Q2\",\"1993Q3\",\"1993Q4\",\"1994Q1\",\"1994Q2\",\"1994Q3\",\"1994Q4\",\"1995Q1\",\"1995Q2\",\"1995Q3\",\"1995Q4\",\"1996Q1\",\"1996Q2\",\"1996Q3\",\"1996Q4\",\"1997Q1\",\"1997Q2\",\"1997Q3\",\"1997Q4\",\"1998Q1\",\"1998Q2\",\"1998Q3\",\"1998Q4\",\"1999Q1\",\"1999Q2\",\"1999Q3\",\"1999Q4\",\"2000Q1\",\"2000Q2\",\"2000Q3\",\"2000Q4\",\"2001Q1\",\"2001Q2\",\"2001Q3\",\"2001Q4\",\"2002Q1\",\"2002Q2\",\"2002Q3\",\"2002Q4\",\"2003Q1\",\"2003Q2\",\"2003Q3\",\"2003Q4\",\"2004Q1\",\"2004Q2\",\"2004Q3\",\"2004Q4\",\"2005Q1\",\"2005Q2\",\"2005Q3\",\"2005Q4\",\"2006Q1\",\"2006Q2\",\"2006Q3\",\"2006Q4\",\"2007Q1\",\"2007Q2\",\"2007Q3\",\"2007Q4\",\"2008Q1\",\"2008Q2\",\"2008Q3\",\"2008Q4\",\"2009Q1\",\"2009Q2\",\"2009Q3\",\"2009Q4\",\"2010Q1\",\"2010Q2\",\"2010Q3\",\"2010Q4\",\"2011Q1\",\"2011Q2\",\"2011Q3\",\"2011Q4\",\"2012Q1\",\"2012Q2\",\"2012Q3\",\"2012Q4\",\"2013Q1\",\"2013Q2\",\"2013Q3\",\"2013Q4\",\"2014Q1\",\"2014Q2\",\"2014Q3\",\"2014Q4\",\"2015Q1\",\"2015Q2\",\"2015Q3\",\"2015Q4\",\"2016Q1\",\"2016Q2\",\"2016Q3\",\"2016Q4\",\"2017Q1\",\"2017Q2\",\"2017Q3\",\"2017Q4\",\"2018Q1\",\"2018Q2\",\"2018Q3\",\"2018Q4\",\"2019Q1\",\"2019Q2\",\"2019Q3\",\"2019Q4\",\"2020Q1\",\"2020Q2\",\"2020Q3\",\"2020Q4\"],\"y\":[13599.84,8297.866,17522.03,12405.35,6740.438,8937.921,5215.462,6426.274,13047.69,6136.862,4840.969,13392.23,14404.25,9741.041,15384.25,12017.22,9527.217,8475.688,12561.48,8014.615,11341.75,8418.577,6439.996,12217.4,9052.895,10554.22,8220.255,6006.848,7567.562,10600.23,7343.292,5820.089,13022.69,8157.488,12661.14,7343.1,10824.04,12368.09,4073.765,4513.455,3755.051,4204.509,13464.62,11174.08,23568.78,12463.52,25973.01,24861.94,22703.31,19691.34,15521.06,29846.88,28867.09,38890.18,27803.09,10303.97,16627.01,7819.049,13778.05,11544.74,10732.54,10486.73,22555.45,11629.38,11802.98,4867.19,10934.21,7503.032,14622.11,22340.24,26178.97,14006.46,13511.24,20601.59,15270.94,15678.24,29186.6,21575.97,13843.45,20738.25,22458.89,19691.39,17224.33,14855.35,14685.23,16010.38,23114.43,22579.48,18277.0,43320.0,30911.77,46178.04,36784.59,11965.55,15539.5,19990.04,20413.97,20919.08,12252.36,17649.79,33053.31,27748.3,20557.77,17428.58,19748.9,20320.08,36229.77,34867.54,33524.69,14235.25,14168.7,26401.77,11672.67,19944.95,26372.96,25081.27,43164.32,43350.02,39039.09,63940.98,63343.55,33870.55,30178.5,23366.59],\"mode\":\"markers\",\"marker\":{}}];\n            var layout = {\"title\":\"Hello world!\",\"xaxis\":{\"title\":\"xAxis\",\"showgrid\":false},\"yaxis\":{\"title\":\"yAxis\",\"showgrid\":false}};\n            var config = {};\n            Plotly.newPlot('48fbbb23-fc19-4f48-8f9a-037bc4b09325', data, layout, config);\r\n});\n            };\n            if ((typeof(requirejs) !==  typeof(Function)) || (typeof(requirejs.config) !== typeof(Function))) {\n                var script = document.createElement(\"script\");\n                script.setAttribute(\"src\", \"https://cdnjs.cloudflare.com/ajax/libs/require.js/2.3.6/require.min.js\");\n                script.onload = function(){\n                    renderPlotly_48fbbb23fc194f488f9a037bc4b09325();\n                };\n                document.getElementsByTagName(\"head\")[0].appendChild(script);\n            }\n            else {\n                renderPlotly_48fbbb23fc194f488f9a037bc4b09325();\n            }\r\n</script>\r\n"
     },
     "output_type": "unknown"
    }
   ],
   "source": [
    "open Plotly.NET\r\n",
    "\r\n",
    "Chart.Point(keys,values)\r\n",
    "  |> Chart.withTitle \"Hello world!\"\r\n",
    "  |> Chart.withX_AxisStyle (\"xAxis\", Showgrid=false)\r\n",
    "  |> Chart.withY_AxisStyle (\"yAxis\", Showgrid=false)"
   ]
  }
 ],
 "metadata": {
  "kernelspec": {
   "display_name": ".NET (F#)",
   "language": "F#",
   "name": ".net-fsharp"
  },
  "language_info": {
   "file_extension": ".fs",
   "mimetype": "text/x-fsharp",
   "name": "C#",
   "pygments_lexer": "fsharp",
   "version": "4.5"
  }
 },
 "nbformat": 4,
 "nbformat_minor": 4
}