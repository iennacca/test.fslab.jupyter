{
  "cells": [
    {
      "cell_type": "code",
      "execution_count": 1,
      "metadata": {
        "dotnet_interactive": {
          "language": "fsharp"
        }
      },
      "source": [
        "#r \"nuget: aconcagua.client, 1.0.0-beta\"\n",
        ""
      ],
      "outputs": []
    },
    {
      "cell_type": "code",
      "execution_count": 1,
      "metadata": {
        "dotnet_interactive": {
          "language": "fsharp"
        }
      },
      "source": [
        "open aconcagua.client\n",
        "open aconcagua.server"
      ],
      "outputs": []
    },
    {
      "cell_type": "code",
      "execution_count": 1,
      "metadata": {
        "dotnet_interactive": {
          "language": "fsharp"
        }
      },
      "source": [
        "let client = DataService()\n",
        "\n",
        "client.GetVersion()"
      ],
      "outputs": []
    },
    {
      "cell_type": "code",
      "execution_count": 1,
      "metadata": {
        "dotnet_interactive": {
          "language": "fsharp"
        }
      },
      "source": [
        "client.GetDatabases() "
      ],
      "outputs": []
    },
    {
      "cell_type": "code",
      "execution_count": 1,
      "metadata": {
        "dotnet_interactive": {
          "language": "fsharp"
        }
      },
      "source": [
        "let seriescodes = client.GetSeriesKeys([\"dmxe:///structural.dmxe\"])\n",
        ""
      ],
      "outputs": []
    }
  ],
  "metadata": {
    "kernelspec": {
      "display_name": ".NET (C#)",
      "language": "C#",
      "name": ".net-csharp"
    },
    "language_info": {
      "file_extension": ".cs",
      "mimetype": "text/x-csharp",
      "name": "C#",
      "pygments_lexer": "csharp",
      "version": "8.0"
    }
  },
  "nbformat": 4,
  "nbformat_minor": 4
}