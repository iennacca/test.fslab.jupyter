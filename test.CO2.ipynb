{
 "cells": [
  {
   "cell_type": "code",
   "execution_count": 2,
   "metadata": {},
   "outputs": [],
   "source": [
    "#r \"nuget: Plotly.NET, 2.0.0-beta8\"\n",
    "#r \"nuget: Plotly.NET.Interactive, 2.0.0-beta8\"\n",
    "#r \"nuget: Deedle, 2.3.0\"\n",
    "#r \"nuget: FSharp.Data, 4.1.0\"\n",
    "#r \"System.Xml.Linq.dll\"\n"
   ]
  },
  {
   "cell_type": "code",
   "execution_count": 3,
   "metadata": {},
   "outputs": [],
   "source": [
    "open System\n",
    "open Deedle\n",
    "open FSharp.Data\n",
    "\n",
    "open Plotly.NET\n",
    "open Plotly.NET.Interactive"
   ]
  },
  {
   "cell_type": "code",
   "execution_count": 4,
   "metadata": {},
   "outputs": [
    {
     "name": "stdout",
     "output_type": "stream",
     "text": [
      "Loaded World Bank data\n"
     ]
    }
   ],
   "source": [
    "type WorldData = XmlProvider<\"http://api.worldbank.org/countries/indicators/NY.GDP.PCAP.CD?date=2010:2010\">\n",
    "let indUrl = \"http://api.worldbank.org/countries/indicators/\"\n",
    "\n",
    "let getData year indicator =\n",
    "    let query =\n",
    "        [(\"per_page\",\"1000\"); (\"date\",sprintf \"%d:%d\" year year)]\n",
    "    let data = Http.RequestString(indUrl + indicator, query)\n",
    "    let xml = WorldData.Parse(data)\n",
    "    let orNaN value =\n",
    "        defaultArg (Option.map float value) nan\n",
    "    series [ for d in xml.Datas -> d.Country.Value, orNaN d.Value ]\n",
    "\n",
    "printfn \"Loaded World Bank data\"\n"
   ]
  },
  {
   "cell_type": "code",
   "execution_count": 5,
   "metadata": {
    "scrolled": true
   },
   "outputs": [],
   "source": [
    "let wb = WorldBankData.GetDataContext()\n",
    "let inds = wb.Countries.World.Indicators\n",
    "let code = inds.``CO2 emissions (kt)``.IndicatorCode\n",
    "\n",
    "let co2000 = getData 2000 code\n",
    "let co2010 = getData 2010 code\n",
    "\n",
    "let change = (co2010 - co2000) / co2000 * 100.0\n",
    "    "
   ]
  },
  {
   "cell_type": "code",
   "execution_count": 6,
   "metadata": {},
   "outputs": [
    {
     "data": {
      "text/html": [
       "<div id=\"3005034b-2f67-4beb-8f4a-c5c8d7ddc51a\" style=\"width: 600px; height: 600px;\"><!-- Plotly chart will be drawn inside this DIV --></div>\r\n",
       "<script type=\"text/javascript\">\r\n",
       "\n",
       "            var renderPlotly_3005034b2f674beb8f4ac5c8d7ddc51a = function() {\n",
       "            var fsharpPlotlyRequire = requirejs.config({context:'fsharp-plotly',paths:{plotly:'https://cdn.plot.ly/plotly-latest.min'}}) || require;\n",
       "            fsharpPlotlyRequire(['plotly'], function(Plotly) {\r\n",
       "\n",
       "            var data = [{\"type\":\"choropleth\",\"locations\":[\"Arab World\",\"Caribbean small states\",\"Central Europe and the Baltics\",\"Early-demographic dividend\",\"East Asia & Pacific\",\"East Asia & Pacific (excluding high income)\",\"East Asia & Pacific (IDA & IBRD countries)\",\"Euro area\",\"Europe & Central Asia\",\"Europe & Central Asia (excluding high income)\",\"Europe & Central Asia (IDA & IBRD countries)\",\"European Union\",\"Fragile and conflict affected situations\",\"Heavily indebted poor countries (HIPC)\",\"High income\",\"IBRD only\",\"IDA & IBRD total\",\"IDA blend\",\"IDA only\",\"IDA total\",\"Late-demographic dividend\",\"Latin America & Caribbean\",\"Latin America & Caribbean (excluding high income)\",\"Latin America & the Caribbean (IDA & IBRD countries)\",\"Least developed countries: UN classification\",\"Low & middle income\",\"Low income\",\"Lower middle income\",\"Middle East & North Africa\",\"Middle East & North Africa (excluding high income)\",\"Middle East & North Africa (IDA & IBRD countries)\",\"Middle income\",\"North America\",\"Not classified\",\"OECD members\",\"Other small states\",\"Pacific island small states\",\"Post-demographic dividend\",\"Pre-demographic dividend\",\"Small states\",\"South Asia\",\"South Asia (IDA & IBRD)\",\"Sub-Saharan Africa\",\"Sub-Saharan Africa (excluding high income)\",\"Sub-Saharan Africa (IDA & IBRD countries)\",\"Upper middle income\",\"World\",\"Afghanistan\",\"Albania\",\"Algeria\",\"American Samoa\",\"Andorra\",\"Angola\",\"Antigua and Barbuda\",\"Argentina\",\"Armenia\",\"Aruba\",\"Australia\",\"Austria\",\"Azerbaijan\",\"Bahamas, The\",\"Bahrain\",\"Bangladesh\",\"Barbados\",\"Belarus\",\"Belgium\",\"Belize\",\"Benin\",\"Bermuda\",\"Bhutan\",\"Bolivia\",\"Bosnia and Herzegovina\",\"Botswana\",\"Brazil\",\"British Virgin Islands\",\"Brunei Darussalam\",\"Bulgaria\",\"Burkina Faso\",\"Burundi\",\"Cabo Verde\",\"Cambodia\",\"Cameroon\",\"Canada\",\"Cayman Islands\",\"Central African Republic\",\"Chad\",\"Channel Islands\",\"Chile\",\"China\",\"Colombia\",\"Comoros\",\"Congo, Dem. Rep.\",\"Congo, Rep.\",\"Costa Rica\",\"Cote d'Ivoire\",\"Croatia\",\"Cuba\",\"Curacao\",\"Cyprus\",\"Czech Republic\",\"Denmark\",\"Djibouti\",\"Dominica\",\"Dominican Republic\",\"Ecuador\",\"Egypt, Arab Rep.\",\"El Salvador\",\"Equatorial Guinea\",\"Eritrea\",\"Estonia\",\"Eswatini\",\"Ethiopia\",\"Faroe Islands\",\"Fiji\",\"Finland\",\"France\",\"French Polynesia\",\"Gabon\",\"Gambia, The\",\"Georgia\",\"Germany\",\"Ghana\",\"Gibraltar\",\"Greece\",\"Greenland\",\"Grenada\",\"Guam\",\"Guatemala\",\"Guinea\",\"Guinea-Bissau\",\"Guyana\",\"Haiti\",\"Honduras\",\"Hong Kong SAR, China\",\"Hungary\",\"Iceland\",\"India\",\"Indonesia\",\"Iran, Islamic Rep.\",\"Iraq\",\"Ireland\",\"Isle of Man\",\"Israel\",\"Italy\",\"Jamaica\",\"Japan\",\"Jordan\",\"Kazakhstan\",\"Kenya\",\"Kiribati\",\"Korea, Dem. People's Rep.\",\"Korea, Rep.\",\"Kosovo\",\"Kuwait\",\"Kyrgyz Republic\",\"Lao PDR\",\"Latvia\",\"Lebanon\",\"Lesotho\",\"Liberia\",\"Libya\",\"Liechtenstein\",\"Lithuania\",\"Luxembourg\",\"Macao SAR, China\",\"Madagascar\",\"Malawi\",\"Malaysia\",\"Maldives\",\"Mali\",\"Malta\",\"Marshall Islands\",\"Mauritania\",\"Mauritius\",\"Mexico\",\"Micronesia, Fed. Sts.\",\"Moldova\",\"Monaco\",\"Mongolia\",\"Montenegro\",\"Morocco\",\"Mozambique\",\"Myanmar\",\"Namibia\",\"Nauru\",\"Nepal\",\"Netherlands\",\"New Caledonia\",\"New Zealand\",\"Nicaragua\",\"Niger\",\"Nigeria\",\"North Macedonia\",\"Northern Mariana Islands\",\"Norway\",\"Oman\",\"Pakistan\",\"Palau\",\"Panama\",\"Papua New Guinea\",\"Paraguay\",\"Peru\",\"Philippines\",\"Poland\",\"Portugal\",\"Puerto Rico\",\"Qatar\",\"Romania\",\"Russian Federation\",\"Rwanda\",\"Samoa\",\"San Marino\",\"Sao Tome and Principe\",\"Saudi Arabia\",\"Senegal\",\"Serbia\",\"Seychelles\",\"Sierra Leone\",\"Singapore\",\"Sint Maarten (Dutch part)\",\"Slovak Republic\",\"Slovenia\",\"Solomon Islands\",\"Somalia\",\"South Africa\",\"South Sudan\",\"Spain\",\"Sri Lanka\",\"St. Kitts and Nevis\",\"St. Lucia\",\"St. Martin (French part)\",\"St. Vincent and the Grenadines\",\"Sudan\",\"Suriname\",\"Sweden\",\"Switzerland\",\"Syrian Arab Republic\",\"Tajikistan\",\"Tanzania\",\"Thailand\",\"Timor-Leste\",\"Togo\",\"Tonga\",\"Trinidad and Tobago\",\"Tunisia\",\"Turkey\",\"Turkmenistan\",\"Turks and Caicos Islands\",\"Tuvalu\",\"Uganda\",\"Ukraine\",\"United Arab Emirates\",\"United Kingdom\",\"United States\",\"Uruguay\",\"Uzbekistan\",\"Vanuatu\",\"Venezuela, RB\",\"Vietnam\",\"Virgin Islands (U.S.)\",\"West Bank and Gaza\",\"Yemen, Rep.\",\"Zambia\",\"Zimbabwe\"],\"z\":[57.015675255239685,53.0017152658662,-0.3200385070331662,45.685237458182414,91.81280800741564,138.83999363927646,141.63560008127928,-5.335339357896012,1.9620154586891159,12.446297353614655,10.966884190906566,-4.542056949251385,38.01369479671035,81.95581208307708,0.9242863876254938,73.54938069964047,71.91417364077725,24.487511280140296,66.50767452188553,39.171607683674964,90.0587891619351,27.572072874827114,26.297379895836116,27.54792146021739,109.17991777316406,74.12358488803935,20.825449121791348,48.27217089544914,53.93257867894017,46.74798967015894,46.794170607340604,74.96432752091289,-4.8996497012157345,-1.314157947799827,64.89006935588152,27.343750000000007,-2.915931502379196,69.53989035993561,61.03384028416777,67.47033596979098,67.47033596979098,35.33379385850557,35.343934765793946,35.33379385850582,82.25813287632874,33.48755863586167,993.8388625592416,52.18446601941745,35.64273789649415,-1.3986013986013883,204.53497309761724,52.12765957446809,32.19989164366244,21.48148148148149,5.392912172573201,18.643143365983967,8.510011778563019,3.9642102646949207,22.368421052631582,55.51441932969602,117.98513405893286,28.34394904458597,17.20752658849196,-4.2206861402223375,36.11111111111111,218.34862385321102,17.7304964539007,23.148148148148152,37.24320742213387,54.30851063829788,20.853540252182352,27.980143556718318,58.82352941176471,74.08560311284045,1.3393985342431132,102.11267605633803,13.51351351351352,157.6271186440678,159.36920222634512,97.54273504273506,-1.3319426050079939,19.68503937007874,-1.36986301369862,104.51127819548871,22.844316977367665,157.72619241202622,33.00202582932387,57.14285714285715,122.17741935483872,88.11188811188812,38.24514400535834,2.591792656587481,4.304133485020855,30.78869675242515,10.457172884918538,-8.930422677053409,-10.744392056007998,41.00000000000001,67.85714285714285,6.2256809338521455,75.98230088495576,43.437986507524656,12.237093690248571,1404.0,-17.469879518072283,19.669299111549854,-11.076923076923089,83.88429752066116,-8.510638297872328,44.78260869565219,18.64549669804693,-2.537963150435309,41.29032258064516,2.265624999999997,57.33333333333335,39.20776071139854,-8.686604487997984,58.30903790087465,39.56043956043956,-8.469420429074596,45.96774193548386,36.538461538461554,14.977810650887577,58.48214285714286,62.499999999999986,6.833712984054668,58.46994535519126,61.07871720116618,-0.42618788538266716,-10.03678402522333,-9.322033898305092,66.66038828809938,62.767453191341275,53.94246872229339,54.86940676250256,-2.83732099973317,14.306578226738875,-10.032554732644257,-30.52294557097118,-3.8276576611799653,36.580751950815795,110.45767869341117,16.86026047166491,77.77777777777777,-27.109543612149285,26.623296818543075,67.33534164042175,37.73734177215191,224.62121212121212,27.136258660508094,31.481481481481488,22.97029702970296,79.4871794871795,31.51463262764632,10.73258968947844,33.11081441922563,-24.269662921348317,4.50097847358122,19.166666666666654,74.58002799813345,107.31707317073172,137.4449339207048,20.970537261698436,37.03703703703704,90.62499999999997,45.5040871934605,16.548232695139912,-17.647058823529406,40.396659707724424,84.12310698583293,65.04434349989184,102.71739130434783,30.425299890948754,88.83928571428572,-47.82608695652174,64.75507765830345,6.62574357676243,60.26272577996718,-3.724705359128307,20.565302144249504,68.42105263157895,44.26936089354406,-28.693009118541042,24.577132821887417,118.61369399830937,59.19942126838681,0.0,59.53134895503484,78.67950481430536,38.17097415506959,91.66061486322924,15.797108698914508,5.671612531702956,-23.265329981878757,108.7741526765917,-12.426705487484337,7.229729570688469,11.805555555555545,30.76923076923076,107.6923076923077,74.61438715652979,96.64804469273741,-22.435897435897438,70.6896551724138,19.006285543250524,0.9912119354179454,6.520631686194603,21.42857142857142,27.480916030534353,24.071545471272383,-7.989488498374701,29.548710601719215,27.65957446808512,15.789473684210526,50.0,188.07157057654075,9.348914858096844,5.416852429781548,0.10316046140860802,20.698326029168765,13.442622950819672,168.04979253112032,49.91612697738614,93.80053908355792,23.076923076923073,101.0613751730503,38.83673845021166,37.087115107303426,52.61307023542054,163.15789473684208,0.0,172.70408163265307,-5.066791603341295,40.920641125879584,-9.064204783885863,-5.236551979091667,20.387007601935025,-14.48826008428658,43.47826086956522,24.890535533849786,166.08107184359835,22.51655629139072,60.030052592036064,47.686116700201204,-43.95575454306031],\"locationmode\":\"country names\"}];\n",
       "            var layout = {\"title\":\"CO2 emissions (world)\"};\n",
       "            var config = {};\n",
       "            Plotly.newPlot('3005034b-2f67-4beb-8f4a-c5c8d7ddc51a', data, layout, config);\r\n",
       "});\n",
       "            };\n",
       "            if ((typeof(requirejs) !==  typeof(Function)) || (typeof(requirejs.config) !== typeof(Function))) {\n",
       "                var script = document.createElement(\"script\");\n",
       "                script.setAttribute(\"src\", \"https://cdnjs.cloudflare.com/ajax/libs/require.js/2.3.6/require.min.js\");\n",
       "                script.onload = function(){\n",
       "                    renderPlotly_3005034b2f674beb8f4ac5c8d7ddc51a();\n",
       "                };\n",
       "                document.getElementsByTagName(\"head\")[0].appendChild(script);\n",
       "            }\n",
       "            else {\n",
       "                renderPlotly_3005034b2f674beb8f4ac5c8d7ddc51a();\n",
       "            }\r\n",
       "</script>\r\n"
      ]
     },
     "execution_count": 6,
     "metadata": {},
     "output_type": "execute_result"
    }
   ],
   "source": [
    "Chart.ChoroplethMap(\n",
    "  change.Keys, change.Values,\n",
    "  Locationmode=StyleParam.LocationFormat.CountryNames\n",
    ") |> Chart.withTitle \"CO2 emissions (world)\"\n"
   ]
  }
 ],
 "metadata": {
  "kernelspec": {
   "display_name": ".NET (F#)",
   "language": "F#",
   "name": ".net-fsharp"
  },
  "language_info": {
   "file_extension": ".fs",
   "mimetype": "text/x-fsharp",
   "name": "C#",
   "pygments_lexer": "fsharp",
   "version": "4.5"
  }
 },
 "nbformat": 4,
 "nbformat_minor": 4
}
